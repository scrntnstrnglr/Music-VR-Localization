{
 "cells": [
  {
   "cell_type": "code",
   "execution_count": 69,
   "metadata": {},
   "outputs": [],
   "source": [
    "import os,io\n",
    "from google.cloud import vision\n",
    "from google.cloud.vision import types\n",
    "from PIL import Image,ImageDraw,ImageFont\n",
    "import pandas as pd"
   ]
  },
  {
   "cell_type": "code",
   "execution_count": 97,
   "metadata": {},
   "outputs": [],
   "source": [
    "#function to draw borders\n",
    "def drawVertices(image_source,vertices,display_text='',save_to='',save_file_name='annotatedImg.jpg', show=False):\n",
    "    pillow_img = Image.open(io.BytesIO(image_source))\n",
    "\n",
    "    draw = ImageDraw.Draw(pillow_img)\n",
    "    for i in range(len(vertices)-1):\n",
    "        draw.line(((vertices[i].x,vertices[i].y),(vertices[i+1].x,vertices[i+1].y)),fill='green',width=8)\n",
    "\n",
    "    draw.line(((vertices[len(vertices)-1].x,vertices[len(vertices)-1].y),(vertices[0].x,vertices[0].y)),fill='green',width=8)\n",
    "\n",
    "    font = ImageFont.truetype('arial.ttf',16)\n",
    "    draw.text((vertices[0].x + 10, vertices[0].y), font=font,text=display_text,fill=(255,255,255))\n",
    "\n",
    "    if show:\n",
    "        pillow_img.show()\n",
    "    if save_to!='':\n",
    "        pillow_img.save(os.path.join(save_to,save_file_name))\n",
    "\n",
    "#function to create dataframe from responses\n",
    "def create_df(localized_annotations):\n",
    "    df = pd.DataFrame(columns=['name','score','locations'])\n",
    "    for obj in localized_annotations:\n",
    "        df = df.append(\n",
    "            dict(\n",
    "                name=obj.name,\n",
    "                score=obj.score,\n",
    "                locations=obj.bounding_poly.normalized_vertices\n",
    "            ),\n",
    "            ignore_index=True\n",
    "        )\n",
    "    return df"
   ]
  },
  {
   "cell_type": "code",
   "execution_count": 7,
   "metadata": {},
   "outputs": [
    {
     "output_type": "execute_result",
     "data": {
      "text/plain": "<google.cloud.vision_v1.ImageAnnotatorClient at 0x2212ffc7548>"
     },
     "metadata": {},
     "execution_count": 7
    }
   ],
   "source": [
    "os.environ['GOOGLE_APPLICATION_CREDENTIALS'] = r'leafy-acumen-268610-a38fd0012f87.json'\n",
    "client = vision.ImageAnnotatorClient()\n",
    "client"
   ]
  },
  {
   "cell_type": "code",
   "execution_count": null,
   "metadata": {},
   "outputs": [],
   "source": [
    "#To use images using URIs\n",
    "img_uri=\"https://cdnblog.picsart.com/2015/08/178443533002201.jpg\"\n",
    "image = vision.types.Image()\n",
    "image.source.image_uri = img_uri"
   ]
  },
  {
   "cell_type": "code",
   "execution_count": 103,
   "metadata": {},
   "outputs": [],
   "source": [
    "#To use images from local system\n",
    "file_name='instruments1.jpg'\n",
    "image_folder='images/input_images'\n",
    "image_path = os.path.join(image_folder,file_name)\n",
    "with io.open(image_path,'rb') as image_file:\n",
    "    content = image_file.read() #byte object\n",
    "\n",
    "image = vision.types.Image(content=content) #vision image object"
   ]
  },
  {
   "cell_type": "code",
   "execution_count": 41,
   "metadata": {},
   "outputs": [],
   "source": [
    "#client call for text detection\n",
    "response = client.text_detection(image=image)"
   ]
  },
  {
   "cell_type": "code",
   "execution_count": 104,
   "metadata": {},
   "outputs": [],
   "source": [
    "#client call for object locatlization\n",
    "object_loc_response = client.object_localization(image=image)"
   ]
  },
  {
   "cell_type": "code",
   "execution_count": 44,
   "metadata": {},
   "outputs": [],
   "source": [
    "texts = response.text_annotations\n",
    "main_text = texts[0].description\n",
    "vertices = texts[0].bounding_poly.vertices"
   ]
  },
  {
   "cell_type": "code",
   "execution_count": 62,
   "metadata": {},
   "outputs": [],
   "source": [
    "drawVertices(content,vertices,save_to='images/labelled_images',save_file_name='labelled1.jpg')"
   ]
  },
  {
   "cell_type": "code",
   "execution_count": 106,
   "metadata": {},
   "outputs": [
    {
     "output_type": "execute_result",
     "data": {
      "text/plain": "                 name     score  \\\n0                Drum  0.891770   \n1              Violin  0.881586   \n2  Musical instrument  0.868803   \n3  Musical instrument  0.861224   \n4                Drum  0.796380   \n5  Musical instrument  0.767071   \n6  Musical instrument  0.718116   \n7  Musical instrument  0.677060   \n\n                                           locations  \n0  [x: 0.1760147660970688\\ny: 0.36738502979278564...  \n1  [x: 0.4616948068141937\\ny: 0.03589838743209839...  \n2  [x: 0.7185540199279785\\ny: 0.04809379577636719...  \n3  [x: 0.02480093203485012\\ny: 0.0186295025050640...  \n4  [x: 0.6583530306816101\\ny: 0.6760404706001282\\...  \n5  [x: 0.49051544070243835\\ny: 0.3896863162517547...  \n6  [x: 0.0394405759871006\\ny: 0.3818153440952301\\...  \n7  [x: 0.032257337123155594\\ny: 0.626742124557495...  ",
      "text/html": "<div>\n<style scoped>\n    .dataframe tbody tr th:only-of-type {\n        vertical-align: middle;\n    }\n\n    .dataframe tbody tr th {\n        vertical-align: top;\n    }\n\n    .dataframe thead th {\n        text-align: right;\n    }\n</style>\n<table border=\"1\" class=\"dataframe\">\n  <thead>\n    <tr style=\"text-align: right;\">\n      <th></th>\n      <th>name</th>\n      <th>score</th>\n      <th>locations</th>\n    </tr>\n  </thead>\n  <tbody>\n    <tr>\n      <th>0</th>\n      <td>Drum</td>\n      <td>0.891770</td>\n      <td>[x: 0.1760147660970688\\ny: 0.36738502979278564...</td>\n    </tr>\n    <tr>\n      <th>1</th>\n      <td>Violin</td>\n      <td>0.881586</td>\n      <td>[x: 0.4616948068141937\\ny: 0.03589838743209839...</td>\n    </tr>\n    <tr>\n      <th>2</th>\n      <td>Musical instrument</td>\n      <td>0.868803</td>\n      <td>[x: 0.7185540199279785\\ny: 0.04809379577636719...</td>\n    </tr>\n    <tr>\n      <th>3</th>\n      <td>Musical instrument</td>\n      <td>0.861224</td>\n      <td>[x: 0.02480093203485012\\ny: 0.0186295025050640...</td>\n    </tr>\n    <tr>\n      <th>4</th>\n      <td>Drum</td>\n      <td>0.796380</td>\n      <td>[x: 0.6583530306816101\\ny: 0.6760404706001282\\...</td>\n    </tr>\n    <tr>\n      <th>5</th>\n      <td>Musical instrument</td>\n      <td>0.767071</td>\n      <td>[x: 0.49051544070243835\\ny: 0.3896863162517547...</td>\n    </tr>\n    <tr>\n      <th>6</th>\n      <td>Musical instrument</td>\n      <td>0.718116</td>\n      <td>[x: 0.0394405759871006\\ny: 0.3818153440952301\\...</td>\n    </tr>\n    <tr>\n      <th>7</th>\n      <td>Musical instrument</td>\n      <td>0.677060</td>\n      <td>[x: 0.032257337123155594\\ny: 0.626742124557495...</td>\n    </tr>\n  </tbody>\n</table>\n</div>"
     },
     "metadata": {},
     "execution_count": 106
    }
   ],
   "source": [
    "df=create_df(object_loc_response.localized_object_annotations)\n",
    "df\n",
    "#drawVertices(content,df['locations'][1],save_to='images/labelled_images',save_file_name='labelled2.jpg',display_text='Laptop')"
   ]
  }
 ],
 "metadata": {
  "language_info": {
   "codemirror_mode": {
    "name": "ipython",
    "version": 3
   },
   "file_extension": ".py",
   "mimetype": "text/x-python",
   "name": "python",
   "nbconvert_exporter": "python",
   "pygments_lexer": "ipython3",
   "version": "3.7.4-final"
  },
  "orig_nbformat": 2,
  "kernelspec": {
   "name": "python37464bitvisionapidemovenv08660825a55d4ed2a80e920feab9e8af",
   "display_name": "Python 3.7.4 64-bit ('VisionAPIDemo': venv)"
  }
 },
 "nbformat": 4,
 "nbformat_minor": 2
}